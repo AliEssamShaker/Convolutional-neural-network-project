{
 "cells": [
  {
   "cell_type": "markdown",
   "metadata": {
    "id": "3DR-eO17geWu"
   },
   "source": [
    "# Convolutional Neural Network"
   ]
  },
  {
   "cell_type": "markdown",
   "metadata": {
    "id": "EMefrVPCg-60"
   },
   "source": [
    "### Importing the libraries"
   ]
  },
  {
   "cell_type": "code",
   "execution_count": 1,
   "metadata": {
    "id": "sCV30xyVhFbE"
   },
   "outputs": [],
   "source": [
    "import tensorflow as tf\n",
    "from keras.preprocessing.image import ImageDataGenerator"
   ]
  },
  {
   "cell_type": "code",
   "execution_count": 2,
   "metadata": {
    "colab": {
     "base_uri": "https://localhost:8080/",
     "height": 37
    },
    "id": "FIleuCAjoFD8",
    "outputId": "f825faa5-d4c4-4a77-cac1-ce05b7d3fd0d"
   },
   "outputs": [
    {
     "data": {
      "text/plain": [
       "'2.3.1'"
      ]
     },
     "execution_count": 2,
     "metadata": {},
     "output_type": "execute_result"
    }
   ],
   "source": [
    "tf.__version__"
   ]
  },
  {
   "cell_type": "markdown",
   "metadata": {
    "id": "oxQxCBWyoGPE"
   },
   "source": [
    "## Part 1 - Data Preprocessing"
   ]
  },
  {
   "cell_type": "markdown",
   "metadata": {
    "id": "MvE-heJNo3GG"
   },
   "source": [
    "### Preprocessing the Training set"
   ]
  },
  {
   "cell_type": "code",
   "execution_count": 3,
   "metadata": {
    "colab": {
     "base_uri": "https://localhost:8080/",
     "height": 375
    },
    "id": "0koUcJMJpEBD",
    "outputId": "d8992a11-7472-48d1-912c-0d6dc8f36a3e"
   },
   "outputs": [
    {
     "name": "stdout",
     "output_type": "stream",
     "text": [
      "Found 8000 images belonging to 2 classes.\n"
     ]
    }
   ],
   "source": [
    "train_datagen = ImageDataGenerator(rescale = 1./255,\n",
    "                                   shear_range = 0.2,\n",
    "                                   zoom_range = 0.2,\n",
    "                                   horizontal_flip = True)\n",
    "training_set = train_datagen.flow_from_directory('dataset/training_set',\n",
    "                                                 target_size = (64, 64),\n",
    "                                                 batch_size = 32,\n",
    "                                                 class_mode = 'binary')"
   ]
  },
  {
   "cell_type": "markdown",
   "metadata": {
    "id": "mrCMmGw9pHys"
   },
   "source": [
    "### Preprocessing the Test set"
   ]
  },
  {
   "cell_type": "code",
   "execution_count": 4,
   "metadata": {
    "id": "SH4WzfOhpKc3"
   },
   "outputs": [
    {
     "name": "stdout",
     "output_type": "stream",
     "text": [
      "Found 2000 images belonging to 2 classes.\n"
     ]
    }
   ],
   "source": [
    "test_datagen = ImageDataGenerator(rescale = 1./255)\n",
    "test_set = test_datagen.flow_from_directory('dataset/test_set',\n",
    "                                            target_size = (64, 64),\n",
    "                                            batch_size = 32,\n",
    "                                            class_mode = 'binary')"
   ]
  },
  {
   "cell_type": "markdown",
   "metadata": {
    "id": "af8O4l90gk7B"
   },
   "source": [
    "## Part 2 - Building the CNN"
   ]
  },
  {
   "cell_type": "markdown",
   "metadata": {
    "id": "ces1gXY2lmoX"
   },
   "source": [
    "### Initialising the CNN"
   ]
  },
  {
   "cell_type": "code",
   "execution_count": 5,
   "metadata": {
    "id": "SAUt4UMPlhLS"
   },
   "outputs": [],
   "source": [
    "cnn = tf.keras.models.Sequential()"
   ]
  },
  {
   "cell_type": "markdown",
   "metadata": {
    "id": "u5YJj_XMl5LF"
   },
   "source": [
    "### Step 1 - Convolution"
   ]
  },
  {
   "cell_type": "code",
   "execution_count": 6,
   "metadata": {
    "id": "XPzPrMckl-hV"
   },
   "outputs": [],
   "source": [
    "cnn.add(tf.keras.layers.Conv2D(filters=32, kernel_size=3, activation='relu', input_shape=[64, 64, 3]))"
   ]
  },
  {
   "cell_type": "markdown",
   "metadata": {
    "id": "tf87FpvxmNOJ"
   },
   "source": [
    "### Step 2 - Pooling"
   ]
  },
  {
   "cell_type": "code",
   "execution_count": 7,
   "metadata": {
    "id": "ncpqPl69mOac"
   },
   "outputs": [],
   "source": [
    "cnn.add(tf.keras.layers.MaxPool2D(pool_size=2, strides=2))"
   ]
  },
  {
   "cell_type": "markdown",
   "metadata": {
    "id": "xaTOgD8rm4mU"
   },
   "source": [
    "### Adding a second convolutional layer"
   ]
  },
  {
   "cell_type": "code",
   "execution_count": 8,
   "metadata": {
    "id": "i_-FZjn_m8gk"
   },
   "outputs": [],
   "source": [
    "cnn.add(tf.keras.layers.Conv2D(filters=32, kernel_size=3, activation='relu'))\n",
    "cnn.add(tf.keras.layers.MaxPool2D(pool_size=2, strides=2))"
   ]
  },
  {
   "cell_type": "markdown",
   "metadata": {
    "id": "tmiEuvTunKfk"
   },
   "source": [
    "### Step 3 - Flattening"
   ]
  },
  {
   "cell_type": "code",
   "execution_count": 9,
   "metadata": {
    "id": "6AZeOGCvnNZn"
   },
   "outputs": [],
   "source": [
    "cnn.add(tf.keras.layers.Flatten())"
   ]
  },
  {
   "cell_type": "markdown",
   "metadata": {
    "id": "dAoSECOm203v"
   },
   "source": [
    "### Step 4 - Full Connection"
   ]
  },
  {
   "cell_type": "code",
   "execution_count": 10,
   "metadata": {
    "id": "8GtmUlLd26Nq"
   },
   "outputs": [],
   "source": [
    "cnn.add(tf.keras.layers.Dense(units=128, activation='relu'))"
   ]
  },
  {
   "cell_type": "markdown",
   "metadata": {
    "id": "yTldFvbX28Na"
   },
   "source": [
    "### Step 5 - Output Layer"
   ]
  },
  {
   "cell_type": "code",
   "execution_count": 11,
   "metadata": {
    "id": "1p_Zj1Mc3Ko_"
   },
   "outputs": [],
   "source": [
    "cnn.add(tf.keras.layers.Dense(units=1, activation='sigmoid'))"
   ]
  },
  {
   "cell_type": "markdown",
   "metadata": {
    "id": "D6XkI90snSDl"
   },
   "source": [
    "## Part 3 - Training the CNN"
   ]
  },
  {
   "cell_type": "markdown",
   "metadata": {
    "id": "vfrFQACEnc6i"
   },
   "source": [
    "### Compiling the CNN"
   ]
  },
  {
   "cell_type": "code",
   "execution_count": 12,
   "metadata": {
    "id": "NALksrNQpUlJ"
   },
   "outputs": [],
   "source": [
    "cnn.compile(optimizer = 'adam', loss = 'binary_crossentropy', metrics = ['accuracy'])"
   ]
  },
  {
   "cell_type": "markdown",
   "metadata": {
    "id": "ehS-v3MIpX2h"
   },
   "source": [
    "### Training the CNN on the Training set and evaluating it on the Test set"
   ]
  },
  {
   "cell_type": "code",
   "execution_count": 13,
   "metadata": {
    "id": "XUj1W4PJptta"
   },
   "outputs": [
    {
     "name": "stdout",
     "output_type": "stream",
     "text": [
      "Epoch 1/25\n",
      "250/250 [==============================] - 45s 181ms/step - loss: 0.6645 - accuracy: 0.5996 - val_loss: 0.6098 - val_accuracy: 0.6755\n",
      "Epoch 2/25\n",
      "250/250 [==============================] - 37s 149ms/step - loss: 0.5956 - accuracy: 0.6802 - val_loss: 0.5516 - val_accuracy: 0.7320\n",
      "Epoch 3/25\n",
      "250/250 [==============================] - 39s 157ms/step - loss: 0.5530 - accuracy: 0.7146 - val_loss: 0.5150 - val_accuracy: 0.7575\n",
      "Epoch 4/25\n",
      "250/250 [==============================] - 40s 161ms/step - loss: 0.5141 - accuracy: 0.7405 - val_loss: 0.5203 - val_accuracy: 0.7525\n",
      "Epoch 5/25\n",
      "250/250 [==============================] - 37s 148ms/step - loss: 0.4938 - accuracy: 0.7610 - val_loss: 0.5287 - val_accuracy: 0.7445\n",
      "Epoch 6/25\n",
      "250/250 [==============================] - 34s 136ms/step - loss: 0.4790 - accuracy: 0.7670 - val_loss: 0.4926 - val_accuracy: 0.7610\n",
      "Epoch 7/25\n",
      "250/250 [==============================] - 34s 135ms/step - loss: 0.4659 - accuracy: 0.7774 - val_loss: 0.5015 - val_accuracy: 0.7595\n",
      "Epoch 8/25\n",
      "250/250 [==============================] - 32s 127ms/step - loss: 0.4561 - accuracy: 0.7800 - val_loss: 0.4833 - val_accuracy: 0.7640\n",
      "Epoch 9/25\n",
      "250/250 [==============================] - 36s 144ms/step - loss: 0.4424 - accuracy: 0.7906 - val_loss: 0.4830 - val_accuracy: 0.7635\n",
      "Epoch 10/25\n",
      "250/250 [==============================] - 35s 140ms/step - loss: 0.4284 - accuracy: 0.7996 - val_loss: 0.6993 - val_accuracy: 0.6965\n",
      "Epoch 11/25\n",
      "250/250 [==============================] - 35s 139ms/step - loss: 0.4171 - accuracy: 0.8084 - val_loss: 0.4682 - val_accuracy: 0.7935\n",
      "Epoch 12/25\n",
      "250/250 [==============================] - 35s 141ms/step - loss: 0.3985 - accuracy: 0.8163 - val_loss: 0.4555 - val_accuracy: 0.7975\n",
      "Epoch 13/25\n",
      "250/250 [==============================] - 35s 141ms/step - loss: 0.3830 - accuracy: 0.8221 - val_loss: 0.4917 - val_accuracy: 0.7820\n",
      "Epoch 14/25\n",
      "250/250 [==============================] - 34s 137ms/step - loss: 0.3674 - accuracy: 0.8320 - val_loss: 0.4613 - val_accuracy: 0.7860\n",
      "Epoch 15/25\n",
      "250/250 [==============================] - 34s 134ms/step - loss: 0.3602 - accuracy: 0.8365 - val_loss: 0.4674 - val_accuracy: 0.7980\n",
      "Epoch 16/25\n",
      "250/250 [==============================] - 32s 129ms/step - loss: 0.3507 - accuracy: 0.8424 - val_loss: 0.4584 - val_accuracy: 0.7940\n",
      "Epoch 17/25\n",
      "250/250 [==============================] - 33s 134ms/step - loss: 0.3346 - accuracy: 0.8520 - val_loss: 0.4912 - val_accuracy: 0.7940\n",
      "Epoch 18/25\n",
      "250/250 [==============================] - 34s 136ms/step - loss: 0.3261 - accuracy: 0.8572 - val_loss: 0.5283 - val_accuracy: 0.7870\n",
      "Epoch 19/25\n",
      "250/250 [==============================] - 33s 131ms/step - loss: 0.3080 - accuracy: 0.8679 - val_loss: 0.4514 - val_accuracy: 0.8090\n",
      "Epoch 20/25\n",
      "250/250 [==============================] - 32s 129ms/step - loss: 0.2938 - accuracy: 0.8750 - val_loss: 0.4770 - val_accuracy: 0.8010\n",
      "Epoch 21/25\n",
      "250/250 [==============================] - 33s 131ms/step - loss: 0.2766 - accuracy: 0.8824 - val_loss: 0.4782 - val_accuracy: 0.7965\n",
      "Epoch 22/25\n",
      "250/250 [==============================] - 33s 133ms/step - loss: 0.2699 - accuracy: 0.8831 - val_loss: 0.4868 - val_accuracy: 0.7980\n",
      "Epoch 23/25\n",
      "250/250 [==============================] - 32s 129ms/step - loss: 0.2627 - accuracy: 0.8876 - val_loss: 0.5195 - val_accuracy: 0.7935\n",
      "Epoch 24/25\n",
      "250/250 [==============================] - 32s 128ms/step - loss: 0.2339 - accuracy: 0.9046 - val_loss: 0.5177 - val_accuracy: 0.8075\n",
      "Epoch 25/25\n",
      "250/250 [==============================] - 33s 132ms/step - loss: 0.2293 - accuracy: 0.9026 - val_loss: 0.5611 - val_accuracy: 0.7965\n"
     ]
    },
    {
     "data": {
      "text/plain": [
       "<tensorflow.python.keras.callbacks.History at 0x64458ee50>"
      ]
     },
     "execution_count": 13,
     "metadata": {},
     "output_type": "execute_result"
    }
   ],
   "source": [
    "cnn.fit(x = training_set, validation_data = test_set, epochs = 25)"
   ]
  },
  {
   "cell_type": "markdown",
   "metadata": {
    "id": "U3PZasO0006Z"
   },
   "source": [
    "## Part 4 - Making a single prediction"
   ]
  },
  {
   "cell_type": "code",
   "execution_count": 14,
   "metadata": {
    "id": "gsSiWEJY1BPB"
   },
   "outputs": [],
   "source": [
    "import numpy as np\n",
    "from keras.preprocessing import image\n",
    "test_image = image.load_img('dataset/single_prediction/cat_or_dog_1.jpg', target_size = (64, 64))\n",
    "test_image = image.img_to_array(test_image)\n",
    "test_image = np.expand_dims(test_image, axis = 0)\n",
    "result = cnn.predict(test_image)\n",
    "training_set.class_indices\n",
    "if result[0][0] == 1:\n",
    "  prediction = 'dog'\n",
    "else:\n",
    "  prediction = 'cat'"
   ]
  },
  {
   "cell_type": "code",
   "execution_count": 15,
   "metadata": {
    "id": "ED9KB3I54c1i"
   },
   "outputs": [
    {
     "name": "stdout",
     "output_type": "stream",
     "text": [
      "dog\n"
     ]
    }
   ],
   "source": [
    "print(prediction)"
   ]
  },
  {
   "cell_type": "code",
   "execution_count": null,
   "metadata": {},
   "outputs": [],
   "source": []
  }
 ],
 "metadata": {
  "colab": {
   "collapsed_sections": [],
   "name": "Copy of convolutional_neural_network.ipynb",
   "provenance": [],
   "toc_visible": true
  },
  "kernelspec": {
   "display_name": "Python 3",
   "language": "python",
   "name": "python3"
  },
  "language_info": {
   "codemirror_mode": {
    "name": "ipython",
    "version": 3
   },
   "file_extension": ".py",
   "mimetype": "text/x-python",
   "name": "python",
   "nbconvert_exporter": "python",
   "pygments_lexer": "ipython3",
   "version": "3.7.4"
  }
 },
 "nbformat": 4,
 "nbformat_minor": 1
}
